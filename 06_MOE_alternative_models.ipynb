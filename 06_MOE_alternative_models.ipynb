{
 "cells": [
  {
   "cell_type": "markdown",
   "metadata": {
    "id": "JFiFWQCUfpbd"
   },
   "source": [
    "<img src=\"./images/DLI_Header.png\" style=\"width: 400px;\">\n"
   ]
  },
  {
   "cell_type": "markdown",
   "metadata": {
    "id": "MePd6N62fpbo"
   },
   "source": [
    "# 6.0 Mixture of Experts (MoE)\n",
    "\n",
    "이번 노트북에서는 Mixture of Experts 모델 트레이닝에 대해 알아봅니다.\n",
    "\n",
    "## 목표 \n",
    "\n",
    "이번 노트북의 목표는 다음과 같습니다 :\n",
    "* 심플 컨볼루션 네트워크에서 선형 전문가(expert) 신경망들을 통합하는 방법\n",
    "* 분류 문제를 위해 새로운 Mixture of Experts CNN을 트레이닝하는 방법\n",
    "\n",
    "\n",
    "### 기존 실행 중이거나 보류 상태의 Job을 취소하고 이번 노트북을 진행합니다. \n",
    "\n",
    "실습 진행에 앞서  SLURM 대기열에서 아직 실행 중이거나 대기 중인 작업이 없는지 확인하십시오. 다음 셀을 실행하여 SLURM 작업 대기열을 확인합니다. :\n",
    "\n"
   ]
  },
  {
   "cell_type": "code",
   "execution_count": null,
   "metadata": {
    "id": "l1pFYLm2fpbr"
   },
   "outputs": [],
   "source": [
    "# Check the SLURM jobs queue \n",
    "!squeue"
   ]
  },
  {
   "cell_type": "markdown",
   "metadata": {
    "id": "SHZi_RmUfpbu"
   },
   "source": [
    "아직 실행 중이거나 보류 중인 작업이 있는 경우 다음 셀을 실행하고 `scancel` 명령을 사용하여 모든 사용자의 작업을 취소합니다."
   ]
  },
  {
   "cell_type": "code",
   "execution_count": null,
   "metadata": {
    "colab": {
     "base_uri": "https://localhost:8080/"
    },
    "executionInfo": {
     "elapsed": 43,
     "status": "ok",
     "timestamp": 1661300640950,
     "user": {
      "displayName": "Solee Moon KR",
      "userId": "15448835692925759007"
     },
     "user_tz": -540
    },
    "id": "H7mwmTCsfpbv",
    "outputId": "77c4a51d-2895-406c-d27a-3328b093fb51"
   },
   "outputs": [
    {
     "name": "stdout",
     "output_type": "stream",
     "text": [
      "/bin/bash: scancel: command not found\n",
      "/bin/bash: squeue: command not found\n"
     ]
    }
   ],
   "source": [
    "# Cancel admin user jobs\n",
    "! scancel -u $USER\n",
    "\n",
    "# Check again the SLURM jobs queue (should be either empty, or the status TS column should be CG)\n",
    "! squeue"
   ]
  },
  {
   "cell_type": "markdown",
   "metadata": {
    "id": "QTutrNY3fpby"
   },
   "source": [
    "---\n",
    "# 6.1 Mixture of Experts 개요\n",
    "\n",
    "Mixture of Experts(MoE)은 일부 레이어가 상황에 따라 활성화되거나 활성화되지 않는 작은 그룹으로 분할되는 신경망입니다.\n",
    "이 구조는 네트워크가 더 넓은 범위의 동작을 학습할 수 있게 합니다. 또 다른 장점은 한 번에 소수의 Expert 신경망들만 활동하기 때문에 MoE 모델이 더 적은 연산을 필요로 한다는 것입니다.\n",
    "\n",
    "<img src=\"images/MOE.png\" width=\"450\" />\n",
    "\n",
    "최근 논문에서는 [Switch Transformer](https://arxiv.org/pdf/2101.03961.pdf)와 같은 MoE 구조를 따르는 여러 모델이 개발되었습니다.\n",
    " "
   ]
  },
  {
   "cell_type": "markdown",
   "metadata": {
    "id": "GWv2UzCgfpb0"
   },
   "source": [
    "# 6.2 베이스라인 CNN을 위한 MoE 작성 방법\n",
    "\n",
    "CNN cifar-10 분류기 모델로 돌아가서 MoE 레이어 1개를 추가하도록 수정해 보겠습니다. CNN 컨볼루션 레이어들은 특징들을 추출하며, 나중에 완전히 연결된 레이어는 CIFAR-10 분류 문제에 특화되어 있습니다. \n",
    "네트워크 정의에 전문가 계층을 추가하려면 다음과 같이`deepspeed.moe.layer.MoE`를 사용하십시오 (정방향 패스를 수정합니다).:\n",
    "\n",
    "```\n",
    "deepspeed.moe.layer.MoE( hidden_size=<Hidden dimension of the model>, \n",
    "                         expert=<Torch module that defines the expert>, \n",
    "                         num_experts=<Desired number of expert>, \n",
    "                         ep_size=<Desired expert-parallel world size>,\n",
    "                         ...\n",
    "                         )\n",
    "                         \n",
    "```\n",
    "\n",
    "[DeepSpeed 설명서](https://deepspeed.readthedocs.io/en/latest/moe.html)에서 DeepSpeed의 Mixture of Experts에 대해서 더 알아보세요.\n",
    "\n",
    "초기 레이어에서 추출된 특징을 평가하기 위해 최신의 완전 연결 레이어 `fc3` 를 MoE 레이어로 변환해 보겠습니다. 최종 분류자인 `fc4`를 추가하겠습니다.\n",
    "\n",
    "우리는 이미 [cifar10_deepspeed_MOE.py](./code/moe/cifar10_deepspeed_MOE.py)스크립트를 준비했습니다. 4개의 GPU에 분할된 8개의 전문가 신경망을 사용하여 실행해 보겠습니다. 다시 말하면, 각 GPU는 2개의 전문가 신경망을 처리할 예정입니다.\n"
   ]
  },
  {
   "cell_type": "code",
   "execution_count": null,
   "metadata": {
    "colab": {
     "base_uri": "https://localhost:8080/"
    },
    "executionInfo": {
     "elapsed": 31,
     "status": "ok",
     "timestamp": 1661300640952,
     "user": {
      "displayName": "Solee Moon KR",
      "userId": "15448835692925759007"
     },
     "user_tz": -540
    },
    "id": "cPeSjt6ffpb5",
    "outputId": "3fff3970-fb3e-4833-8942-54c743a53145",
    "scrolled": true,
    "tags": []
   },
   "outputs": [
    {
     "name": "stdout",
     "output_type": "stream",
     "text": [
      "/bin/bash: deepspeed: command not found\n"
     ]
    }
   ],
   "source": [
    "! deepspeed --num_gpus=4 /dli/code/moe/cifar10_deepspeed_MOE.py  \\\n",
    "    --deepspeed \\\n",
    "    --deepspeed_config /dli/code/moe/ds_config.json \\\n",
    "    --moe \\\n",
    "    --ep-world-size 4 \\\n",
    "    --num-experts-per-layer 8 \\\n",
    "    --top-k 1 \\\n",
    "    --noisy-gate-policy 'RSample' \\\n",
    "    --moe-param-group \\\n",
    "    --profile-execution=True \\\n",
    "    --profile-name='zero0_MOE'"
   ]
  },
  {
   "cell_type": "markdown",
   "metadata": {
    "id": "UoqB6aQkfpb6"
   },
   "source": [
    "<img src=\"images/deepspeed_MOE.png\" width=\"950\" />"
   ]
  },
  {
   "cell_type": "markdown",
   "metadata": {
    "id": "LFyU2_o_fpb9"
   },
   "source": [
    "---\n",
    "<h2 style=\"color:green;\">축하합니다!</h2>\n",
    "\n",
    "다음 실습은 대형 신경망을 배포하는 데 초점을 맞출 것입니다.\n",
    "\n",
    "다음으로 넘어가기 전에 대기열에서 실행 중이거나 대기 중인 작업이 없는지 확인해야 합니다."
   ]
  },
  {
   "cell_type": "code",
   "execution_count": null,
   "metadata": {
    "colab": {
     "base_uri": "https://localhost:8080/"
    },
    "executionInfo": {
     "elapsed": 26,
     "status": "ok",
     "timestamp": 1661300640953,
     "user": {
      "displayName": "Solee Moon KR",
      "userId": "15448835692925759007"
     },
     "user_tz": -540
    },
    "id": "eH9FenF4fpb_",
    "outputId": "aa978334-a6e7-4713-e24e-da18f65afb7b"
   },
   "outputs": [
    {
     "name": "stdout",
     "output_type": "stream",
     "text": [
      "/bin/bash: squeue: command not found\n"
     ]
    }
   ],
   "source": [
    "# Check the SLURM jobs queue \n",
    "!squeue"
   ]
  },
  {
   "cell_type": "markdown",
   "metadata": {
    "id": "rie0B5N6fpcA"
   },
   "source": [
    "아직 실행 중이거나 보류 중인 작업이 있는 경우 다음 셀을 실행하고 `scancel` 명령을 사용하여 모든 어드민 사용자의 작업을 취소합니다."
   ]
  },
  {
   "cell_type": "code",
   "execution_count": null,
   "metadata": {
    "colab": {
     "base_uri": "https://localhost:8080/"
    },
    "executionInfo": {
     "elapsed": 21,
     "status": "ok",
     "timestamp": 1661300640954,
     "user": {
      "displayName": "Solee Moon KR",
      "userId": "15448835692925759007"
     },
     "user_tz": -540
    },
    "id": "CQpgPanDfpcB",
    "outputId": "edfd2285-b559-47e8-f5ea-8f85772dd4b4"
   },
   "outputs": [
    {
     "name": "stdout",
     "output_type": "stream",
     "text": [
      "/bin/bash: scancel: command not found\n",
      "/bin/bash: squeue: command not found\n"
     ]
    }
   ],
   "source": [
    "# Cancel admin user jobs\n",
    "! scancel -u $USER\n",
    "\n",
    "# Check again the SLURM jobs queue (should be either empty, or the status TS column should be CG)\n",
    "! squeue"
   ]
  }
 ],
 "metadata": {
  "colab": {
   "collapsed_sections": [],
   "name": "06_MOE_alternative_models.ipynb",
   "provenance": []
  },
  "kernelspec": {
   "display_name": "Python 3",
   "language": "python",
   "name": "python3"
  },
  "language_info": {
   "codemirror_mode": {
    "name": "ipython",
    "version": 3
   },
   "file_extension": ".py",
   "mimetype": "text/x-python",
   "name": "python",
   "nbconvert_exporter": "python",
   "pygments_lexer": "ipython3",
   "version": "3.8.5"
  }
 },
 "nbformat": 4,
 "nbformat_minor": 0
}
