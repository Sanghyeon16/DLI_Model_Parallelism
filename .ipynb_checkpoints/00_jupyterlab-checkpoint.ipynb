{
 "cells": [
  {
   "cell_type": "markdown",
   "metadata": {
    "id": "T6C-sNSdP-bj"
   },
   "source": [
    "<a href=\"https://www.nvidia.com/dli\"> <img src=\"images/DLI_Header.png\" alt=\"Header\" style=\"width: 400px;\"/> </a>"
   ]
  },
  {
   "cell_type": "markdown",
   "metadata": {
    "id": "ris3KzkzP-bn"
   },
   "source": [
    "# JupyterLab\n",
    "이 핸즈온 랩에서는 [JupyterLab](https://jupyterlab.readthedocs.io/en/stable/)을 사용하여 환경을 관리합니다.  [JupyterLab 인터페이스](https://jupyterlab.readthedocs.io/en/stable/user/interface.html)는 인터랙티브 iPython 노트북에 액세스할 수 있을 뿐 아니라 Ubuntu 운영 체제로 환경 및 터미널 창의 폴더 구조에 액세스할 수 있는 대시보드입니다. 표시되는 첫 번째 보기에는 상단의 **메뉴 모음**, **왼쪽 사이드바**의 **파일 탐색기**, 처음에 \"시작 관리자\" 페이지로 열리는 **메인 작업 영역**이 포함되어 있습니다. \n",
    "\n",
    "<img src=\"images/jl_launcher.png\">\n",
    "\n",
    "파일 탐색기는 다른 파일 탐색기와 같은 방법으로 탐색할 수 있습니다. 항목을 더블 클릭하면 내용이 포함된 새 탭이 열립니다.\n",
    "\n",
    "메인 작업 영역에는 필요에 따라 닫거나 이동하거나 편집할 수 있는 탭으로 구분된 열린 파일 보기가 포함되어 있습니다. \n",
    "\n",
    "이 노트북을 포함한 노트북은 일련의 콘텐츠와 코드 **셀**로 구성됩니다.  코드 셀에서 코드를 실행하려면 셀을 강조 표시한 상태에서 `Shift+Enter`를 누르거나 위의 메뉴 모음에서 \"실행\" 버튼을 누르십시오. 때로는 콘텐츠 셀이 편집 모드로 전환됩니다. `Shift+Enter`를 누르면 읽을 수 있는 형식으로 다시 전환됩니다.\n",
    "\n",
    "또는 위의 **&blacktriangleright;**  버튼(오른쪽 삼각형 또는 \"play\")에서도 동일한 효과가 나타납니다. <span style=\"letter-spacing:-5px;\">**&blacktriangleright;&blacktriangleright;**</span> &nbsp;&nbsp;버튼(이중 직각 삼각형 또는 \"fast forward\")은 노트북의 모든 코드 셀을 위에서 아래로 실행합니다.\n",
    "\n",
    "아래 셀에서 간단한 출력 문을 실행해 보십시오."
   ]
  },
  {
   "cell_type": "code",
   "execution_count": null,
   "metadata": {
    "id": "xhCb2lLEP-bo"
   },
   "outputs": [],
   "source": [
    "# Highlight this cell and click [Shift+Enter] to execute\n",
    "print('This is just a simple print statement')"
   ]
  },
  {
   "cell_type": "markdown",
   "metadata": {
    "id": "mkydXhm9P-bp"
   },
   "source": [
    "## 커널 재시작하기"
   ]
  },
  {
   "cell_type": "markdown",
   "metadata": {
    "id": "DqtYo_oIP-bq"
   },
   "source": [
    "주피터는 노트북 내에서 실행된 코드를 추적하기 위해 커널이라고 불리는 것을 사용합니다. 때때로 이 커널은 컴퓨터의 리소스를 너무 많이 사용하거나 코드가 무한정 실행될 수 있습니다. 이 경우, 커널을 재설정하면 문제가 해결될 수 있습니다.\n",
    "\n",
    "커널을 지우는 방법은 크게 세 가지가 있습니다. 첫 번째는 노트북 바로 위에 있는 메뉴의 ⟳ 버튼을 사용하는 것입니다. 지금 클릭하면 커널을 재설정해도 되는지 묻는 메시지가 나타납니다.\n",
    "\n",
    "두 번째 방법은 코드 셀을 실행하는 것입니다. 다음은 익숙해지기 위해 실행할 수 있는 셀 중 하나입니다."
   ]
  },
  {
   "cell_type": "code",
   "execution_count": null,
   "metadata": {
    "id": "6_TjmHUWP-br"
   },
   "outputs": [],
   "source": [
    "import IPython\n",
    "app = IPython.Application.instance()\n",
    "app.kernel.do_shutdown(True)"
   ]
  },
  {
   "cell_type": "markdown",
   "metadata": {
    "id": "iw0CWdoTP-br"
   },
   "source": [
    "마지막 방법은 왼쪽의 커널 메뉴, 밝은 사각형 안에 있는 어두운 원을 사용하는 것입니다. 앞의 두 전략은 \"소프트\" 리셋으로 간주될 수 있지만, 이것은 강제적인 \"하드\" 스톱에 가깝습니다.\n",
    "\n",
    "## 다음"
   ]
  },
  {
   "cell_type": "markdown",
   "metadata": {
    "id": "57-pOODiP-br"
   },
   "source": [
    "이제 모델 병렬화에 대해 배울 시간입니다! [다음 노트북](01_OverviewOfTheClassEnvironment.ipynb)으로 이동하십시오."
   ]
  },
  {
   "cell_type": "markdown",
   "metadata": {
    "id": "RKyV8SQXP-bs"
   },
   "source": [
    "<a href=\"https://www.nvidia.com/dli\"> <img src=\"images/DLI_Header.png\" alt=\"Header\" style=\"width: 400px;\"/> </a>"
   ]
  }
 ],
 "metadata": {
  "colab": {
   "collapsed_sections": [],
   "name": "00_jupyterlab.ipynb",
   "provenance": []
  },
  "kernelspec": {
   "display_name": "Python 3",
   "language": "python",
   "name": "python3"
  },
  "language_info": {
   "codemirror_mode": {
    "name": "ipython",
    "version": 3
   },
   "file_extension": ".py",
   "mimetype": "text/x-python",
   "name": "python",
   "nbconvert_exporter": "python",
   "pygments_lexer": "ipython3",
   "version": "3.8.5"
  }
 },
 "nbformat": 4,
 "nbformat_minor": 0
}
